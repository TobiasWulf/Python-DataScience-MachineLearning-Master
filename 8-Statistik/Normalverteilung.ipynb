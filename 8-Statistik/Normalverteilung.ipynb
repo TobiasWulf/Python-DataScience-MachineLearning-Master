{
 "cells": [
  {
   "cell_type": "markdown",
   "metadata": {
    "collapsed": true
   },
   "source": [
    "***Hinweis:*** Du solltest zuvor die Binominalverteilung lernen.\n",
    "\n",
    "# Normalverteilung"
   ]
  },
  {
   "cell_type": "markdown",
   "metadata": {},
   "source": [
    "Die Normal- oder Gauß-Verteilung ist ein wichtiger Typ stetiger Wahrscheinlichkeitsverteilungen. Ihre Wahrscheinlichkeitsdichte wird auch Gauß-Funktion, Gaußsche Normalverteilung, Gaußsche Verteilungskurve, Gauß-Kurve, Gaußsche Glockenkurve, Gaußsche Glockenfunktion, Gauß-Glocke oder schlicht Glockenkurve genannt.\n",
    "\n",
    "Beispiele mit einer Normalverteilung:\n",
    "\n",
    "    - Zufällige Messfehler,\n",
    "    - Zufällige Abweichungen vom Sollmaß bei der Fertigung von Werkstücken,\n",
    "    - Beschreibung der brownschen Molekularbewegung.\n",
    "    - In der Versicherungsmathematik ist die Normalverteilung geeignet zur Modellierung von Schadensdaten im Bereich mittlerer Schadenshöhen.\n",
    "    - In der Messtechnik wird häufig eine Normalverteilung angesetzt, die die Streuung der Messfehler beschreibt. Hierbei ist von Bedeutung, wie viele Messpunkte innerhalb einer gewissen Streubreite liegen. \n",
    "\n",
    "Wir schauen uns zunächst die Definition an, erstellen ein Beispiel mit Python indem wir Scipy und Numpy verwenden. Dabei diskutieren wir die Eigenschaften einer Normalverteilung.\n",
    "\n",
    "Die Verteliung wird mit der Wahrscheinlichkeitsdichtefunktion (en. probability density function) beschrieben:\n"
   ]
  },
  {
   "cell_type": "markdown",
   "metadata": {},
   "source": [
    "## $$  f(x,\\mu,\\sigma) = \\frac{1}{\\sigma\\sqrt{2\\pi}}e^\\frac{-1}{2z^2} $$"
   ]
  },
  {
   "cell_type": "markdown",
   "metadata": {},
   "source": [
    "wobei: $$z=\\frac{(X-\\mu)}{\\sigma}$$"
   ]
  },
  {
   "cell_type": "markdown",
   "metadata": {},
   "source": [
    "mit: μ=Durchschnitt , σ=Standardabweichung , π=3.14... , e=2.718... Die Gesamtfläche zwischen der Kurve der Wahrscheinlichkeitsdichtefunktion und der X-Achse ist 1. Daher repräsentiert die Fläche unter der Kurve zweier Ordinaten X=a und X = b, wobei a<b, die Wahrscheinlichkeit dass X zwischen a und b liegt. Diese Wahrscheinlichkeit kann wie folgt ausgedrückt werden: $$Pr(a<X<b)$$"
   ]
  },
  {
   "cell_type": "markdown",
   "metadata": {
    "collapsed": true
   },
   "source": [
    "----------"
   ]
  },
  {
   "cell_type": "markdown",
   "metadata": {},
   "source": [
    "Die Normalverteilung hat die folgenden Eigenschaften:\n",
    "\n",
    "    1.) Die Kurve ist für die theoretische Verteilung symetrisch  \n",
    "    2.) Die Spitze der Kurve ist bei dem Durchschnitt.\n",
    "    3.) Die Standardabweichung gibt der Kurve ihre Form:\n",
    "        -Die Kurve ist für eine höhere Standardabweichung klein und breit.\n",
    "        -Die Kurve ist für eine niedrigere Standardabweichung schmal und hoch.\n",
    "    4.) Die Fläche unter der Kurve ist glecih 1\n",
    "    5.) Der Durchschnitt = Median    "
   ]
  },
  {
   "cell_type": "markdown",
   "metadata": {},
   "source": [
    "Für eine Normalverteilung können wir sehen welcher Prozentsatz der Werte in einer Standardabweichung liegen. 68% der Werte liegen inerhalb einer Standardabweichung (STD) von 1. 95% liegen zwischen 2 STD und 99,7% liegen zwischen 3 STDs. Die Anzahl der Standardabweichungen wird auch Z-Score genannt, den wir oben schon gesehen haben."
   ]
  },
  {
   "cell_type": "code",
   "execution_count": 5,
   "metadata": {},
   "outputs": [
    {
     "data": {
      "text/html": [
       "<img src=\"http://upload.wikimedia.org/wikipedia/commons/thumb/2/25/The_Normal_Distribution.svg/725px-The_Normal_Distribution.svg.png\"/>"
      ],
      "text/plain": [
       "<IPython.core.display.Image object>"
      ]
     },
     "execution_count": 5,
     "metadata": {},
     "output_type": "execute_result"
    }
   ],
   "source": [
    "from IPython.display import Image\n",
    "Image(url='http://upload.wikimedia.org/wikipedia/commons/thumb/2/25/The_Normal_Distribution.svg/725px-The_Normal_Distribution.svg.png')"
   ]
  },
  {
   "cell_type": "markdown",
   "metadata": {},
   "source": [
    "Erstellen wir uns selbst eine Normalverteilung mit Scipy."
   ]
  },
  {
   "cell_type": "code",
   "execution_count": 11,
   "metadata": {},
   "outputs": [
    {
     "data": {
      "text/plain": [
       "[<matplotlib.lines.Line2D at 0x1a135f22b0>]"
      ]
     },
     "execution_count": 11,
     "metadata": {},
     "output_type": "execute_result"
    },
    {
     "data": {
      "image/png": "[encoded data removed]",
      "text/plain": [
       "<matplotlib.figure.Figure at 0x1a134a1320>"
      ]
     },
     "metadata": {},
     "output_type": "display_data"
    }
   ],
   "source": [
    "#Import\n",
    "import matplotlib as mpl\n",
    "import matplotlib.pyplot as plt\n",
    "%matplotlib inline\n",
    "from scipy import stats\n",
    "import numpy as np\n",
    "\n",
    "mean = 0\n",
    "std = 1\n",
    "\n",
    "# Erstelle eine range X\n",
    "X = np.arange(-4,4,0.01)\n",
    "\n",
    "# Erstelle eine Normalverteilung für X\n",
    "Y = stats.norm.pdf(X,mean,std)\n",
    "\n",
    "#\n",
    "plt.plot(X,Y)\n"
   ]
  },
  {
   "cell_type": "markdown",
   "metadata": {},
   "source": [
    "Als nächstes schauen wir uns an wie mit Numpy eine Normalverteilung erstellt werden kann."
   ]
  },
  {
   "cell_type": "code",
   "execution_count": 15,
   "metadata": {},
   "outputs": [],
   "source": [
    "mu,sigma = 0,0.1\n",
    "\n",
    "# Jetzt nehmen wir uns 1000 Zufallswerte aus der Normalverteilung\n",
    "norm_set = np.random.normal(mu,sigma,1000)"
   ]
  },
  {
   "cell_type": "markdown",
   "metadata": {},
   "source": [
    "Wir visualisieren die normalverteilten Werte mit einem Seaborn Histogram."
   ]
  },
  {
   "cell_type": "code",
   "execution_count": 16,
   "metadata": {},
   "outputs": [
    {
     "data": {
      "text/plain": [
       "(array([  1.,   0.,   0.,   0.,   1.,   0.,   0.,   0.,   2.,   7.,   4.,\n",
       "          5.,   6.,  16.,  14.,  16.,  12.,  19.,  28.,  24.,  39.,  45.,\n",
       "         31.,  39.,  50.,  41.,  54.,  55.,  48.,  48.,  44.,  54.,  47.,\n",
       "         39.,  29.,  32.,  21.,  33.,  22.,  12.,  13.,  16.,   9.,   8.,\n",
       "          3.,   4.,   3.,   3.,   2.,   1.]),\n",
       " array([-0.35869271, -0.34571514, -0.33273758, -0.31976002, -0.30678246,\n",
       "        -0.2938049 , -0.28082733, -0.26784977, -0.25487221, -0.24189465,\n",
       "        -0.22891708, -0.21593952, -0.20296196, -0.1899844 , -0.17700684,\n",
       "        -0.16402927, -0.15105171, -0.13807415, -0.12509659, -0.11211903,\n",
       "        -0.09914146, -0.0861639 , -0.07318634, -0.06020878, -0.04723122,\n",
       "        -0.03425365, -0.02127609, -0.00829853,  0.00467903,  0.0176566 ,\n",
       "         0.03063416,  0.04361172,  0.05658928,  0.06956684,  0.08254441,\n",
       "         0.09552197,  0.10849953,  0.12147709,  0.13445465,  0.14743222,\n",
       "         0.16040978,  0.17338734,  0.1863649 ,  0.19934246,  0.21232003,\n",
       "         0.22529759,  0.23827515,  0.25125271,  0.26423028,  0.27720784,\n",
       "         0.2901854 ]),\n",
       " <a list of 50 Patch objects>)"
      ]
     },
     "execution_count": 16,
     "metadata": {},
     "output_type": "execute_result"
    },
    {
     "data": {
      "image/png": "[encoded data removed]",
      "text/plain": [
       "<matplotlib.figure.Figure at 0x1a139b9be0>"
      ]
     },
     "metadata": {},
     "output_type": "display_data"
    }
   ],
   "source": [
    "import seaborn as sns\n",
    "\n",
    "plt.hist(norm_set,bins=50)"
   ]
  },
  {
   "cell_type": "markdown",
   "metadata": {
    "collapsed": true
   },
   "source": [
    "##### Das war eine kurze Übersicht zur Normalverteilung.\n",
    "\n",
    "Es gibt noch sehr viel mehr Literatur zur Normalverteilung, die du dir anschauen kannst. Hier sind ein paar Links zu weiteren Erklärungen:\n",
    "\n",
    "1.) https://de.wikipedia.org/wiki/Normalverteilung\n",
    "\n",
    "2.) http://mars.wiwi.hu-berlin.de/mediawiki/mmstat3/index.php/Normalverteilung\n",
    "\n",
    "3.) http://mathworld.wolfram.com/NormalDistribution.html"
   ]
  },
  {
   "cell_type": "markdown",
   "metadata": {
    "collapsed": true
   },
   "source": [
    "# Gut gemacht!"
   ]
  },
  {
   "cell_type": "code",
   "execution_count": null,
   "metadata": {},
   "outputs": [],
   "source": []
  }
 ],
 "metadata": {
  "kernelspec": {
   "display_name": "Python 3",
   "language": "python",
   "name": "python3"
  },
  "language_info": {
   "codemirror_mode": {
    "name": "ipython",
    "version": 3
   },
   "file_extension": ".py",
   "mimetype": "text/x-python",
   "name": "python",
   "nbconvert_exporter": "python",
   "pygments_lexer": "ipython3",
   "version": "3.6.3"
  }
 },
 "nbformat": 4,
 "nbformat_minor": 1
}
